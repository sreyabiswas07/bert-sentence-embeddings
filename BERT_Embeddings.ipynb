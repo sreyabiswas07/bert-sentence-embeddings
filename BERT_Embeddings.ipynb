!pip install transformers==4.31.0

from transformers import AutoTokenizer, AutoModel
import torch

# Load pre-trained model and tokenizer
model_name = 'bert-base-uncased'
tokenizer = AutoTokenizer.from_pretrained(model_name)
model = AutoModel.from_pretrained(model_name)

# Input text
text = "This is a simple example."

# Tokenize input text
inputs = tokenizer(text, return_tensors='pt')

# Get embeddings
with torch.no_grad():
    outputs = model(**inputs)
    embeddings = outputs.last_hidden_state

# The embeddings variable now contains the BERT embeddings for the input text.
